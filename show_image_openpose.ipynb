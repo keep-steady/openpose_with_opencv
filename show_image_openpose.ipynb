{
 "cells": [
  {
   "cell_type": "markdown",
   "metadata": {},
   "source": [
    "# 200520\n",
    "OpenPose\n",
    "\n",
    "1. OpenCV 설치\n",
    "    >pip install opencv-python\n",
    "2. MPI 및 COCO 모델 다운로드 후 model/로 이동, coco.caffemodel  coco.prototxt  mpi.caffemodel  mpi.prototxt  test.md\n",
    "##### MPII Model(caffe/prototxt)\n",
    "    http://posefs1.perception.cs.cmu.edu/OpenPose/models/pose/mpi/pose_iter_160000.caffemodel\n",
    "    \n",
    "    이름 변경!! pose_iter_160000.caffemodel -> mpi.caffemodel\n",
    "    http://blogattach.naver.net/bf2aa3196d5a318ea4442f1a22c4b5c163344f/20200220_77_blogfile/shino1025_1582181201869_SH72yM_prototxt/mpi.prototxt\n",
    "##### COCO Model(caffe/prototxt)\n",
    "    http://posefs1.perception.cs.cmu.edu/OpenPose/models/pose/coco/pose_iter_440000.caffemodel\n",
    "\n",
    "    이름 변경!! pose_iter_440000.caffemodel -> coco.caffemodel\n",
    "   http://blogattach.naver.net/ac39b00016272690b657360d34d7addf7222d9dc/20200220_183_blogfile/shino1025_1582181217717_FTsb78_prototxt/coco.prototxt\n",
    "    \n",
    "\n",
    "3. 이미지/영상 탐지 - output/에 결과 생성\n",
    "    > python image.py\n",
    "\n",
    "    > python video.py\n",
    "    \n",
    "    \n",
    "    \n",
    "> 200MB 모델 수행시 1~1.5초 소요, CPU가 더 빠르다"
   ]
  },
  {
   "cell_type": "code",
   "execution_count": 1,
   "metadata": {
    "ExecuteTime": {
     "end_time": "2020-05-20T07:39:03.643494Z",
     "start_time": "2020-05-20T07:38:57.138247Z"
    }
   },
   "outputs": [
    {
     "name": "stdout",
     "output_type": "stream",
     "text": [
      "input/tennis1.jpg\n",
      "(H,W,C) : (425, 650, 3)\n",
      "mpi - 추론 완료 : 1.1 sec\n",
      "input/tennis2.jpg\n",
      "(H,W,C) : (356, 500, 3)\n",
      "mpi - 추론 완료 : 1.0 sec\n",
      "input/tennis1.jpg\n",
      "(H,W,C) : (425, 650, 3)\n",
      "coco - 추론 완료 : 1.5 sec\n",
      "input/tennis2.jpg\n",
      "(H,W,C) : (356, 500, 3)\n",
      "coco - 추론 완료 : 1.5 sec\n"
     ]
    }
   ],
   "source": [
    "##\n",
    "import cv2\n",
    "import time\n",
    "import numpy as np\n",
    "import sys\n",
    "import os\n",
    "\n",
    "USE_GPU = False # False\n",
    "\n",
    "def proc(module, img):\n",
    "    if module == \"mpi\":\n",
    "        protoFile   = \"./model/mpi.prototxt\"\n",
    "        weightsFile = \"./model/mpi.caffemodel\"\n",
    "        nPoints = 15  # data에 있는 point 갯수\n",
    "        POSE_PAIRS = [[0,1], [1,2], [2,3], [3,4], [1,5], [5,6], [6,7], [1,14], [14,8], [8,9], [9,10], [14,11], [11,12], [12,13]]\n",
    "    else:\n",
    "        protoFile   = \"./model/coco.prototxt\"\n",
    "        weightsFile = \"./model/coco.caffemodel\"\n",
    "        nPoints = 18\n",
    "        POSE_PAIRS = [[1,0],[1,2],[1,5],[2,3],[3,4],[5,6],[6,7],[1,8],[8,9],[9,10],[1,11],[11,12],[12,13],[0,14],[0,15],[14,16],[15,17]]\n",
    "    print(\"input/\" + img)\n",
    "    frame = cv2.imread(os.path.join('input', img))\n",
    "    frameCopy   = np.copy(frame)\n",
    "    frameWidth  = frame.shape[1]\n",
    "    frameHeight = frame.shape[0]\n",
    "    print('(H,W,C) :',(frame.shape))\n",
    "    threshold = 0.1\n",
    "    net = cv2.dnn.readNetFromCaffe(protoFile, weightsFile)\n",
    "    \n",
    "    # check if we are going to use GPU\n",
    "    if USE_GPU:\n",
    "        print('USE GPU!!')\n",
    "        # set CUDA as the preferable backend and target\n",
    "        print(\"[INFO] setting preferable backend and target to CUDA...\")\n",
    "        net.setPreferableBackend(cv2.dnn.DNN_BACKEND_CUDA)\n",
    "        net.setPreferableTarget(cv2.dnn.DNN_TARGET_CUDA)\n",
    "    \n",
    "    \n",
    "    start_time = time.time()  # 수행시간 측정\n",
    "    inWidth  = 368\n",
    "    inHeight = 368\n",
    "\n",
    "    # inpBlob : (425, 650, 3)->(1, 3, W, H), 0~255->0~1로 normalize, (W, H)로 resize\n",
    "    inpBlob = cv2.dnn.blobFromImage(frame, 1.0 / 255, (inWidth, inHeight),\n",
    "                              (0, 0, 0), swapRB=False, crop=False)\n",
    "    net.setInput(inpBlob)\n",
    "    output = net.forward()  # (N, 57, 46, 46)\n",
    "\n",
    "    print(\"%s - 추론 완료 : %.1f sec\"%(module, time.time() - start_time))    \n",
    "    \n",
    "    H = output.shape[2]\n",
    "    W = output.shape[3]\n",
    "    points = []\n",
    "    ## 각 좌표들 찍기\n",
    "    for i in range(nPoints):    \n",
    "        probMap = output[0, i, :, :]  # (46, 46), batch에 여러개가 있을 시, 이부분 수정 0->?\n",
    "        minVal, prob, minLoc, point = cv2.minMaxLoc(probMap)\n",
    "        x = (frameWidth * point[0]) / W\n",
    "        y = (frameHeight * point[1]) / H\n",
    "        # 최대값이 thr보다 높을 때 그 좌표로 간주\n",
    "        if prob > threshold :\n",
    "            # 가장 높은 위치에 원 그리기\n",
    "            frameCopy = cv2.circle(frameCopy, (int(x), int(y)), 8, (0, 255, 255), thickness=-1, lineType=cv2.FILLED)\n",
    "            # txt 부치기\n",
    "            frameCopy = cv2.putText(frameCopy, 'OpenCV', (int(x), int(y)), cv2.FONT_HERSHEY_SIMPLEX, 1, (255, 0, 0), 2, lineType=cv2.LINE_AA)\n",
    "            points.append((int(x), int(y)))\n",
    "        else :\n",
    "            points.append(None)  # 없으면 없구나 하고 pass    \n",
    "    ## 관절과 관절 사이 선 그리기\n",
    "    for pair in POSE_PAIRS:\n",
    "        partA = pair[0]\n",
    "        partB = pair[1]\n",
    "        if points[partA] and points[partB]:\n",
    "            frameCopy = cv2.line(frame, points[partA], points[partB], (0, 255, 255), 2)\n",
    "            frameCopy = cv2.circle(frame, points[partA], 8, (0, 0, 255), thickness=-1, lineType=cv2.FILLED)\n",
    "    cv2.imwrite(os.path.join('output', module + \"_\" + img), frameCopy)  # 이미지파일 저장\n",
    "\n",
    "if __name__ == '__main__':\n",
    "    module = [\"mpi\",\"coco\"]\n",
    "    for i in module:\n",
    "        for j in os.listdir('input'):\n",
    "            if j[-3:] in ['jpg','png','peg']:\n",
    "                proc(i, j)\n",
    "                \n",
    "    print('done!')"
   ]
  },
  {
   "cell_type": "code",
   "execution_count": null,
   "metadata": {},
   "outputs": [],
   "source": []
  },
  {
   "cell_type": "code",
   "execution_count": null,
   "metadata": {},
   "outputs": [],
   "source": []
  },
  {
   "cell_type": "code",
   "execution_count": null,
   "metadata": {},
   "outputs": [],
   "source": []
  }
 ],
 "metadata": {
  "kernelspec": {
   "display_name": "Python 3",
   "language": "python",
   "name": "python3"
  },
  "language_info": {
   "codemirror_mode": {
    "name": "ipython",
    "version": 3
   },
   "file_extension": ".py",
   "mimetype": "text/x-python",
   "name": "python",
   "nbconvert_exporter": "python",
   "pygments_lexer": "ipython3",
   "version": "3.5.5"
  },
  "widgets": {
   "state": {},
   "version": "1.1.2"
  }
 },
 "nbformat": 4,
 "nbformat_minor": 2
}
