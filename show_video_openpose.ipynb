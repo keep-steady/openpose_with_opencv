{
 "cells": [
  {
   "cell_type": "markdown",
   "metadata": {},
   "source": [
    "# 200520\n",
    "OpenPose\n",
    "\n",
    "1. OpenCV 설치\n",
    "    >pip install opencv-python\n",
    "2. MPI 및 COCO 모델 다운로드 후 model/로 이동, coco.caffemodel  coco.prototxt  mpi.caffemodel  mpi.prototxt  test.md\n",
    "##### MPII Model(caffe/prototxt)\n",
    "    http://posefs1.perception.cs.cmu.edu/OpenPose/models/pose/mpi/pose_iter_160000.caffemodel\n",
    "    \n",
    "    이름 변경!! pose_iter_160000.caffemodel -> mpi.caffemodel\n",
    "    http://blogattach.naver.net/bf2aa3196d5a318ea4442f1a22c4b5c163344f/20200220_77_blogfile/shino1025_1582181201869_SH72yM_prototxt/mpi.prototxt\n",
    "##### COCO Model(caffe/prototxt)\n",
    "    http://posefs1.perception.cs.cmu.edu/OpenPose/models/pose/coco/pose_iter_440000.caffemodel\n",
    "\n",
    "    이름 변경!! pose_iter_440000.caffemodel -> coco.caffemodel\n",
    "   http://blogattach.naver.net/ac39b00016272690b657360d34d7addf7222d9dc/20200220_183_blogfile/shino1025_1582181217717_FTsb78_prototxt/coco.prototxt\n",
    "    \n",
    "\n",
    "3. 이미지/영상 탐지 - output/에 결과 생성\n",
    "    > python image.py\n",
    "\n",
    "    > python video.py\n",
    "    \n",
    "    \n",
    "    \n",
    "> 200MB 모델 수행시 1~1.5초 소요, CPU가 더 빠르다"
   ]
  },
  {
   "cell_type": "code",
   "execution_count": null,
   "metadata": {},
   "outputs": [],
   "source": []
  },
  {
   "cell_type": "code",
   "execution_count": null,
   "metadata": {},
   "outputs": [],
   "source": []
  },
  {
   "cell_type": "code",
   "execution_count": 1,
   "metadata": {
    "ExecuteTime": {
     "end_time": "2020-05-20T08:07:03.937980Z",
     "start_time": "2020-05-20T08:07:03.848221Z"
    },
    "code_folding": [
     0
    ]
   },
   "outputs": [],
   "source": [
    "##\n",
    "import cv2\n",
    "import time\n",
    "import numpy as np\n",
    "import os\n",
    "\n",
    "USE_GPU = False # False\n",
    "\n",
    "def proc(module, video):\n",
    "    \n",
    "    if module == \"mpi\":\n",
    "        protoFile   = \"./model/mpi.prototxt\"\n",
    "        weightsFile = \"./model/mpi.caffemodel\"\n",
    "        nPoints = 15  # data에 있는 point 갯수\n",
    "        POSE_PAIRS = [[0,1], [1,2], [2,3], [3,4], [1,5], [5,6], [6,7], [1,14], [14,8], [8,9], [9,10], [14,11], [11,12], [12,13]]\n",
    "    else:\n",
    "        protoFile   = \"./model/coco.prototxt\"\n",
    "        weightsFile = \"./model/coco.caffemodel\"\n",
    "        nPoints = 18\n",
    "        POSE_PAIRS = [[1,0],[1,2],[1,5],[2,3],[3,4],[5,6],[6,7],[1,8],[8,9],[9,10],[1,11],[11,12],[12,13],[0,14],[0,15],[14,16],[15,17]]\n",
    "\n",
    "    inWidth  = 368\n",
    "    inHeight = 368\n",
    "    threshold= 0.1\n",
    "    input_source = 'input/' + video\n",
    "    print(input_source)\n",
    "    \n",
    "    ## video 읽어오기\n",
    "    cap = cv2.VideoCapture(input_source)\n",
    "    hasFrame, frame = cap.read()\n",
    "    # video 저장용, for avi\n",
    "    vid_writer = cv2.VideoWriter('./output/' + video.split(\".\")[0] + \"_\"+ module + '.avi',cv2.VideoWriter_fourcc('M','J','P','G'), 10, (frame.shape[1],frame.shape[0]))\n",
    "    \n",
    "    # caffe model을 opencv에서 읽어오기\n",
    "    net = cv2.dnn.readNetFromCaffe(protoFile, weightsFile)\n",
    "    while cv2.waitKey(1) < 0:\n",
    "        t = time.time()\n",
    "        hasFrame, frame = cap.read()  # frame 읽기\n",
    "        frameCopy = np.copy(frame)\n",
    "        if not hasFrame:\n",
    "            cv2.waitKey()\n",
    "            break\n",
    "        frameWidth  = frame.shape[1]\n",
    "        frameHeight = frame.shape[0]\n",
    "        # 입력 형태로 이미지 변환\n",
    "        inpBlob = cv2.dnn.blobFromImage(frame, 1.0 / 255, (inWidth, inHeight),\n",
    "                                          (0, 0, 0), swapRB=False, crop=False)\n",
    "        net.setInput(inpBlob)\n",
    "        output = net.forward()  # 추론!\n",
    "        \n",
    "        H = output.shape[2]\n",
    "        W = output.shape[3]\n",
    "        points = []\n",
    "        for i in range(nPoints):\n",
    "            probMap = output[0, i, :, :]\n",
    "            minVal, prob, minLoc, point = cv2.minMaxLoc(probMap)\n",
    "            x = (frameWidth * point[0]) / W\n",
    "            y = (frameHeight * point[1]) / H\n",
    "            if prob > threshold : \n",
    "                cv2.circle(frameCopy, (int(x), int(y)), 8, (0, 255, 255), thickness=-1, lineType=cv2.FILLED)\n",
    "                cv2.putText(frameCopy, \"{}\".format(i), (int(x), int(y)), cv2.FONT_HERSHEY_SIMPLEX, 1, (0, 0, 255), 2, lineType=cv2.LINE_AA)\n",
    "                points.append((int(x), int(y)))\n",
    "            else :\n",
    "                points.append(None)\n",
    "        for pair in POSE_PAIRS:\n",
    "            partA = pair[0]\n",
    "            partB = pair[1]\n",
    "            if points[partA] and points[partB]:\n",
    "                cv2.line(frame, points[partA], points[partB], (0, 255, 255), 3, lineType=cv2.LINE_AA)\n",
    "                cv2.circle(frame, points[partA], 8, (0, 0, 255), thickness=-1, lineType=cv2.FILLED)\n",
    "                cv2.circle(frame, points[partB], 8, (0, 0, 255), thickness=-1, lineType=cv2.FILLED)\n",
    "        cv2.putText(frame, \"Test Time = {:.2f} sec\".format(time.time() - t), (50, 50), cv2.FONT_HERSHEY_COMPLEX, .8, (255, 50, 0), 2, lineType=cv2.LINE_AA)\n",
    "        vid_writer.write(frame)  # 영상 저장\n",
    "    vid_writer.release()\n",
    "\n",
    "\n"
   ]
  },
  {
   "cell_type": "code",
   "execution_count": null,
   "metadata": {},
   "outputs": [],
   "source": [
    "if __name__ == '__main__':\n",
    "    module = ['mpi', 'coco']\n",
    "    for i in module:\n",
    "        for j in os.listdir('input'):\n",
    "            if j[-3:] in ['mp4','avi']:\n",
    "                print(i, j)\n",
    "                proc(i, j)"
   ]
  },
  {
   "cell_type": "code",
   "execution_count": null,
   "metadata": {
    "ExecuteTime": {
     "end_time": "2020-05-20T07:50:23.807123Z",
     "start_time": "2020-05-20T07:50:23.728334Z"
    }
   },
   "outputs": [],
   "source": [
    "proc('mpi', 'tennis')"
   ]
  },
  {
   "cell_type": "code",
   "execution_count": 4,
   "metadata": {
    "ExecuteTime": {
     "end_time": "2020-05-20T08:07:20.898859Z",
     "start_time": "2020-05-20T08:07:20.895867Z"
    }
   },
   "outputs": [],
   "source": [
    "module = 'mpi'\n",
    "video  ='rain.avi'"
   ]
  },
  {
   "cell_type": "code",
   "execution_count": 5,
   "metadata": {
    "ExecuteTime": {
     "end_time": "2020-05-20T08:21:18.041948Z",
     "start_time": "2020-05-20T08:07:21.120771Z"
    }
   },
   "outputs": [
    {
     "name": "stdout",
     "output_type": "stream",
     "text": [
      "mpi  :  input/rain.avi\n"
     ]
    }
   ],
   "source": [
    "input_source = 'input/' + video\n",
    "print(module, ' : ', input_source)\n",
    "\n",
    "if module == \"mpi\":\n",
    "    protoFile   = \"./model/mpi.prototxt\"\n",
    "    weightsFile = \"./model/mpi.caffemodel\"\n",
    "    nPoints = 15  # data에 있는 point 갯수\n",
    "    POSE_PAIRS = [[0,1], [1,2], [2,3], [3,4], [1,5], [5,6], [6,7], [1,14], [14,8], [8,9], [9,10], [14,11], [11,12], [12,13]]\n",
    "else:\n",
    "    protoFile   = \"./model/coco.prototxt\"\n",
    "    weightsFile = \"./model/coco.caffemodel\"\n",
    "    nPoints = 18\n",
    "    POSE_PAIRS = [[1,0],[1,2],[1,5],[2,3],[3,4],[5,6],[6,7],[1,8],[8,9],[9,10],[1,11],[11,12],[12,13],[0,14],[0,15],[14,16],[15,17]]\n",
    "\n",
    "inWidth  = 368\n",
    "inHeight = 368\n",
    "threshold= 0.1\n",
    "\n",
    "\n",
    "## video 읽어오기\n",
    "cap = cv2.VideoCapture(input_source)\n",
    "hasFrame, frame = cap.read()\n",
    "# video 저장용, for avi\n",
    "vid_writer = cv2.VideoWriter('./output/' + video.split(\".\")[0] + \"_\"+ module + '.avi',cv2.VideoWriter_fourcc('M','J','P','G'), 10, (frame.shape[1],frame.shape[0]))\n",
    "\n",
    "# caffe model을 opencv에서 읽어오기\n",
    "net = cv2.dnn.readNetFromCaffe(protoFile, weightsFile)\n",
    "while cv2.waitKey(1) < 0:\n",
    "    t = time.time()\n",
    "    hasFrame, frame = cap.read()  # frame 읽기\n",
    "    frameCopy = np.copy(frame)\n",
    "    if not hasFrame:\n",
    "        cv2.waitKey()\n",
    "        break\n",
    "    frameWidth  = frame.shape[1]\n",
    "    frameHeight = frame.shape[0]\n",
    "    # 입력 형태로 이미지 변환\n",
    "    inpBlob = cv2.dnn.blobFromImage(frame, 1.0 / 255, (inWidth, inHeight),\n",
    "                                      (0, 0, 0), swapRB=False, crop=False)\n",
    "    net.setInput(inpBlob)\n",
    "    output = net.forward()  # 추론!\n",
    "\n",
    "    H = output.shape[2]\n",
    "    W = output.shape[3]\n",
    "    points = []\n",
    "    for i in range(nPoints):\n",
    "        probMap = output[0, i, :, :]\n",
    "        minVal, prob, minLoc, point = cv2.minMaxLoc(probMap)\n",
    "        x = (frameWidth * point[0]) / W\n",
    "        y = (frameHeight * point[1]) / H\n",
    "        if prob > threshold : \n",
    "            cv2.circle(frameCopy, (int(x), int(y)), 8, (0, 255, 255), thickness=-1, lineType=cv2.FILLED)\n",
    "            cv2.putText(frameCopy, \"{}\".format(i), (int(x), int(y)), cv2.FONT_HERSHEY_SIMPLEX, 1, (0, 0, 255), 2, lineType=cv2.LINE_AA)\n",
    "            points.append((int(x), int(y)))\n",
    "        else :\n",
    "            points.append(None)\n",
    "    for pair in POSE_PAIRS:\n",
    "        partA = pair[0]\n",
    "        partB = pair[1]\n",
    "        if points[partA] and points[partB]:\n",
    "            cv2.line(frame, points[partA], points[partB], (0, 255, 255), 3, lineType=cv2.LINE_AA)\n",
    "            cv2.circle(frame, points[partA], 8, (0, 0, 255), thickness=-1, lineType=cv2.FILLED)\n",
    "            cv2.circle(frame, points[partB], 8, (0, 0, 255), thickness=-1, lineType=cv2.FILLED)\n",
    "    cv2.putText(frame, \"Test Time = {:.2f} sec\".format(time.time() - t), (50, 50), cv2.FONT_HERSHEY_COMPLEX, .8, (255, 50, 0), 2, lineType=cv2.LINE_AA)\n",
    "    vid_writer.write(frame)  # 영상 저장\n",
    "vid_writer.release()\n",
    "\n",
    "print('done')"
   ]
  },
  {
   "cell_type": "code",
   "execution_count": 6,
   "metadata": {
    "ExecuteTime": {
     "end_time": "2020-05-20T08:21:18.045938Z",
     "start_time": "2020-05-20T08:21:18.042946Z"
    }
   },
   "outputs": [
    {
     "name": "stdout",
     "output_type": "stream",
     "text": [
      "done\n"
     ]
    }
   ],
   "source": [
    "print('done')"
   ]
  },
  {
   "cell_type": "code",
   "execution_count": null,
   "metadata": {},
   "outputs": [],
   "source": []
  },
  {
   "cell_type": "code",
   "execution_count": null,
   "metadata": {},
   "outputs": [],
   "source": []
  },
  {
   "cell_type": "code",
   "execution_count": null,
   "metadata": {},
   "outputs": [],
   "source": []
  },
  {
   "cell_type": "code",
   "execution_count": null,
   "metadata": {},
   "outputs": [],
   "source": []
  },
  {
   "cell_type": "code",
   "execution_count": null,
   "metadata": {},
   "outputs": [],
   "source": [
    "import torch\n",
    "model = torch.nn.LSTM(256, 2, 1, bidirectional=False)\n",
    "model.eval()\n",
    "\n",
    "dummy_input = torch.randn(1, 37, 256)\n",
    "torch.onnx.export(model, dummy_input, \"crnn.onnx\", verbose=True)\n",
    "\n",
    "import cv2\n",
    "net=cv2.dnn.readNet(\"crnn.onnx\")\n",
    "net=cv2.dnn.readNet(\"crnn.onnx\")"
   ]
  },
  {
   "cell_type": "code",
   "execution_count": null,
   "metadata": {},
   "outputs": [],
   "source": []
  }
 ],
 "metadata": {
  "kernelspec": {
   "display_name": "Python 3",
   "language": "python",
   "name": "python3"
  },
  "language_info": {
   "codemirror_mode": {
    "name": "ipython",
    "version": 3
   },
   "file_extension": ".py",
   "mimetype": "text/x-python",
   "name": "python",
   "nbconvert_exporter": "python",
   "pygments_lexer": "ipython3",
   "version": "3.5.5"
  },
  "widgets": {
   "state": {},
   "version": "1.1.2"
  }
 },
 "nbformat": 4,
 "nbformat_minor": 2
}
